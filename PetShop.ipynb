{
  "nbformat": 4,
  "nbformat_minor": 0,
  "metadata": {
    "colab": {
      "name": "PetShop.ipynb",
      "provenance": [],
      "authorship_tag": "ABX9TyM8x94m/0FxADaYRXVWjOQn",
      "include_colab_link": true
    },
    "kernelspec": {
      "name": "python3",
      "display_name": "Python 3"
    }
  },
  "cells": [
    {
      "cell_type": "markdown",
      "metadata": {
        "id": "view-in-github",
        "colab_type": "text"
      },
      "source": [
        "<a href=\"https://colab.research.google.com/github/parkerem/IST210-SP20/blob/master/PetShop.ipynb\" target=\"_parent\"><img src=\"https://colab.research.google.com/assets/colab-badge.svg\" alt=\"Open In Colab\"/></a>"
      ]
    },
    {
      "cell_type": "markdown",
      "metadata": {
        "id": "3Q2PA9zZ_IMI",
        "colab_type": "text"
      },
      "source": [
        "# Lab 2: Pet Shop "
      ]
    },
    {
      "cell_type": "markdown",
      "metadata": {
        "id": "KR-dJJaPFdEp",
        "colab_type": "text"
      },
      "source": [
        "![alt text](https://raw.githubusercontent.com/parkerem/IST210-SP20/master/PetShop/PetShop.png)"
      ]
    },
    {
      "cell_type": "markdown",
      "metadata": {
        "id": "yFpqFqHpFd9M",
        "colab_type": "text"
      },
      "source": [
        "I created an Entity-Relation Diagram of a Pet Shop. I have 6 tables demonstrating the business activity of the shop. The first table is for Customers. It has the primary key \"LoyaltyID\" and attributes for first name, last name, address, and phone number. The second table is Food Transactions, which has the primary key \"FoodSaleID\", foreign keys \"FoodID\" and \"LoyaltyID\", and attributes for the total price and the date and time. The third table is Food Inventory and has the primary key \"FoodID\" and attributes for brand, type of animal it feeds, price, and amount of the food. The fourth table is Pet Transactions, with the primary key \"PetSaleID\", foreign keys \"PetID\" and \"LoyaltyID\", and attributes for the total price and date and time. The fifth table is for Pet Inventory, it has the primary key \"PetID\", foreign keys \"EnclosureNumber\" and \"FoodID\", with attributes for price and type of animal. The sixth table is Enclosures, which has the primary key \"EnclosureNumber\" and attributes of enclosure type, animal type, and status of the enclosure (whether the enclosure is filled or not). Customers can make Food Transactions which purchase food. Customers can also make Pet Transactions to purchase pets. The animals can eat the food and are housed in the enclosures. A typical transaction could include the customer buying one pet and one item of food. They would use their loyalty ID to complete the purchase and the food provided or the pet would be retrieved from their enclosure. "
      ]
    }
  ]
}
