{
  "nbformat": 4,
  "nbformat_minor": 0,
  "metadata": {
    "colab": {
      "name": "Notebook1.ipynb",
      "provenance": [],
      "collapsed_sections": [],
      "authorship_tag": "ABX9TyMIUM5LaIX+kYUBBn1UcbHm",
      "include_colab_link": true
    },
    "kernelspec": {
      "name": "python3",
      "display_name": "Python 3"
    }
  },
  "cells": [
    {
      "cell_type": "markdown",
      "metadata": {
        "id": "view-in-github",
        "colab_type": "text"
      },
      "source": [
        "<a href=\"https://colab.research.google.com/github/parkerem/IST210-SP20/blob/master/Notebook1.ipynb\" target=\"_parent\"><img src=\"https://colab.research.google.com/assets/colab-badge.svg\" alt=\"Open In Colab\"/></a>"
      ]
    },
    {
      "cell_type": "markdown",
      "metadata": {
        "id": "6VWOXoGeEw9-",
        "colab_type": "text"
      },
      "source": [
        "### Name\n",
        "Elliot Parker\n",
        "\n",
        "\n"
      ]
    },
    {
      "cell_type": "markdown",
      "metadata": {
        "id": "SpbtRMygE2-m",
        "colab_type": "text"
      },
      "source": [
        "### IST Interests\n",
        "I like programming, working with tech to help people, and helping people understand and implement tech in ways that are useful to what they need. "
      ]
    },
    {
      "cell_type": "markdown",
      "metadata": {
        "id": "7dV-xSM3FB9L",
        "colab_type": "text"
      },
      "source": [
        "### Future Job\n",
        "I'm not sure what exactly I'd like to do, but obviously something with technology. I think consulting and analysis could be interesting. While I like programming, I don't believe I want to go into development. I am interested to see what other career paths arise from increasing tech development and how those are integrated with the existing world. "
      ]
    },
    {
      "cell_type": "markdown",
      "metadata": {
        "id": "mo4xU_T_FFd5",
        "colab_type": "text"
      },
      "source": [
        "![alt text](https://raw.githubusercontent.com/parkerem/IST210-SP20/master/IMG_0426.jpg)"
      ]
    }
  ]
}