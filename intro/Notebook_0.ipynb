{
  "nbformat": 4,
  "nbformat_minor": 0,
  "metadata": {
    "colab": {
      "name": "Notebook 0.ipynb",
      "provenance": [],
      "authorship_tag": "ABX9TyOuT0UUvndACtZTwt3okGMZ",
      "include_colab_link": true
    },
    "kernelspec": {
      "name": "python3",
      "display_name": "Python 3"
    }
  },
  "cells": [
    {
      "cell_type": "markdown",
      "metadata": {
        "id": "view-in-github",
        "colab_type": "text"
      },
      "source": [
        "<a href=\"https://colab.research.google.com/github/parkerem/IST210-SP20/blob/master/intro/Notebook_0.ipynb\" target=\"_parent\"><img src=\"https://colab.research.google.com/assets/colab-badge.svg\" alt=\"Open In Colab\"/></a>"
      ]
    },
    {
      "cell_type": "code",
      "metadata": {
        "id": "3JAyYZMbzZgM",
        "colab_type": "code",
        "colab": {
          "base_uri": "https://localhost:8080/",
          "height": 34
        },
        "outputId": "b345fe31-2238-4c40-ce25-4fb58a833e0c"
      },
      "source": [
        "2+2"
      ],
      "execution_count": 5,
      "outputs": [
        {
          "output_type": "execute_result",
          "data": {
            "text/plain": [
              "4"
            ]
          },
          "metadata": {
            "tags": []
          },
          "execution_count": 5
        }
      ]
    },
    {
      "cell_type": "code",
      "metadata": {
        "id": "tiau-4dPzwpj",
        "colab_type": "code",
        "colab": {
          "base_uri": "https://localhost:8080/",
          "height": 34
        },
        "outputId": "d6b3fed8-1cd3-426d-e0a1-c55d2ce6752f"
      },
      "source": [
        "2+3"
      ],
      "execution_count": 6,
      "outputs": [
        {
          "output_type": "execute_result",
          "data": {
            "text/plain": [
              "5"
            ]
          },
          "metadata": {
            "tags": []
          },
          "execution_count": 6
        }
      ]
    },
    {
      "cell_type": "markdown",
      "metadata": {
        "id": "b3lALldRz8_L",
        "colab_type": "text"
      },
      "source": [
        "Notebook 0\n"
      ]
    },
    {
      "cell_type": "markdown",
      "metadata": {
        "id": "E5qTQLGa0rbp",
        "colab_type": "text"
      },
      "source": [
        "# Header 1"
      ]
    },
    {
      "cell_type": "markdown",
      "metadata": {
        "id": "vH2jDWa_0voy",
        "colab_type": "text"
      },
      "source": [
        "## Header 2"
      ]
    },
    {
      "cell_type": "markdown",
      "metadata": {
        "id": "XvO9sTV_4YUR",
        "colab_type": "text"
      },
      "source": [
        "![alt text](https://raw.githubusercontent.com/parkerem/IST210-SP20/master/intro/Screen%20Shot%202020-01-15%20at%2010.37.40%20AM.png)"
      ]
    }
  ]
}